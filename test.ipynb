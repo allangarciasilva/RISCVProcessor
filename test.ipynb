{
 "cells": [
  {
   "cell_type": "code",
   "execution_count": 2,
   "metadata": {},
   "outputs": [],
   "source": [
    "def chunks(it, stride):\n",
    "    c = []\n",
    "    for i in range(0, len(it), stride):\n",
    "        c.append(it[i : i + stride])\n",
    "    return c"
   ]
  },
  {
   "cell_type": "code",
   "execution_count": 3,
   "metadata": {},
   "outputs": [],
   "source": [
    "def to_bin(hex_):\n",
    "    value = int(hex_, 16)\n",
    "    value_bin = bin(value)[2:]\n",
    "\n",
    "    value_bin = (len(leds) * 4 - len(value_bin)) * \"0\" + value_bin\n",
    "    return value_bin\n",
    "\n",
    "def to_hex(bin_):\n",
    "    return hex(int(bin_, 2))[2:]"
   ]
  },
  {
   "cell_type": "code",
   "execution_count": 12,
   "metadata": {},
   "outputs": [
    {
     "name": "stdout",
     "output_type": "stream",
     "text": [
      "10010000 90\n",
      "11001100 cc\n"
     ]
    }
   ],
   "source": [
    "leds = \"640e64\"\n",
    "value_bin = to_bin(leds)\n",
    "\n",
    "\n",
    "def get_data_bits(bin_):\n",
    "    return bin_[2:-1]\n",
    "\n",
    "x = get_data_bits(value_bin[:11])\n",
    "print(x, to_hex(x))\n",
    "\n",
    "x = get_data_bits(value_bin[11:22])\n",
    "print(x, to_hex(x))"
   ]
  },
  {
   "cell_type": "code",
   "execution_count": 15,
   "metadata": {},
   "outputs": [
    {
     "data": {
      "text/plain": [
       "'000000000000000000110010'"
      ]
     },
     "execution_count": 15,
     "metadata": {},
     "output_type": "execute_result"
    }
   ],
   "source": [
    "to_bin(\"32\")"
   ]
  },
  {
   "cell_type": "code",
   "execution_count": 14,
   "metadata": {},
   "outputs": [
    {
     "data": {
      "text/plain": [
       "['01100100', '00001110', '01100100']"
      ]
     },
     "execution_count": 14,
     "metadata": {},
     "output_type": "execute_result"
    }
   ],
   "source": [
    "chunks(value_bin, 8)"
   ]
  },
  {
   "cell_type": "code",
   "execution_count": 5,
   "metadata": {},
   "outputs": [
    {
     "data": {
      "text/plain": [
       "'001110001110000000111000'"
      ]
     },
     "execution_count": 5,
     "metadata": {},
     "output_type": "execute_result"
    }
   ],
   "source": [
    "value_bin"
   ]
  }
 ],
 "metadata": {
  "kernelspec": {
   "display_name": "Python 3",
   "language": "python",
   "name": "python3"
  },
  "language_info": {
   "codemirror_mode": {
    "name": "ipython",
    "version": 3
   },
   "file_extension": ".py",
   "mimetype": "text/x-python",
   "name": "python",
   "nbconvert_exporter": "python",
   "pygments_lexer": "ipython3",
   "version": "3.11.3"
  },
  "orig_nbformat": 4
 },
 "nbformat": 4,
 "nbformat_minor": 2
}
